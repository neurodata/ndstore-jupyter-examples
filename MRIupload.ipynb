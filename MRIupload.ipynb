{
 "cells": [
  {
   "cell_type": "markdown",
   "metadata": {},
   "source": [
    "## MRI Upload to mri.neurodata.io\n",
    "\n",
    "This notebook demonstrates how to upload a directory of NIFTI files to a the NeuroData store server.  To use these instructions you need to have created a __\"Dataset\"__ that describes the shape of the images and a __\"Project\"__ that names a collections of images.  When you upload images, they will populate __\"Channels\"__ in the database.  To create a dataset and project, go to mri.neurodata.io/nd/accounts/login/.\n",
    "\n",
    "### Directory of NIFTI files\n",
    "\n",
    "In the following text box, give the path to the directory of the MRI files that you want to upload.  The notebook will print a list of files that it has found in that directory."
   ]
  },
  {
   "cell_type": "code",
   "execution_count": 1,
   "metadata": {
    "collapsed": false
   },
   "outputs": [
    {
     "data": {
      "text/plain": [
       "'Input directory with .nii files'"
      ]
     },
     "metadata": {},
     "output_type": "display_data"
    }
   ],
   "source": [
    "from ipywidgets import widgets\n",
    "from IPython.display import display\n",
    "niidir = widgets.Text()\n",
    "display(\"Input directory with .nii files\", niidir)"
   ]
  },
  {
   "cell_type": "code",
   "execution_count": 2,
   "metadata": {
    "collapsed": false
   },
   "outputs": [
    {
     "name": "stdout",
     "output_type": "stream",
     "text": [
      "Files found in directory /data/scratch\n",
      "/data/scratch/SWU4_0025805_1_DTI_tensors_fa_rgb.nii.gz\n",
      "/data/scratch/WHS_SD_rat_FA_color_v1.01.nii\n",
      "/data/scratch/kristina15.sql\n",
      "/data/scratch/SWU4_0025800_2_DTI_tensors_fa_rgb.nii.gz\n",
      "/data/scratch/SWU4_0025807_1_DTI_tensors_fa_rgb.nii.gz\n",
      "/data/scratch/SWU4_0025801_2_DTI_tensors_fa_rgb.nii.gz\n",
      "/data/scratch/SWU4_0025808_1_DTI_tensors_fa_rgb.nii.gz\n",
      "/data/scratch/kasthuri11.image_res4.sql\n",
      "/data/scratch/SWU4_0025800_1_DTI_tensors_fa_rgb.nii.gz\n",
      "/data/scratch/SWU4_0025803_1_DTI_tensors_fa_rgb.nii.gz\n",
      "/data/scratch/SWU4_0025807_2_DTI_tensors_fa_rgb.nii.gz\n",
      "/data/scratch/SWU4_0025802_2_DTI_tensors_fa_rgb.nii.gz\n",
      "/data/scratch/WHS_SD_rat_FA_color_v1.01.nii.gz\n",
      "/data/scratch/SWU4_0025804_1_DTI_tensors_fa_rgb.nii.gz\n",
      "/data/scratch/SWU4_0025804_2_DTI_tensors_fa_rgb.nii.gz\n",
      "/data/scratch/SWU4_0025806_1_DTI_tensors_fa_rgb.nii.gz\n",
      "/data/scratch/WHS_SD_rat_T2star_v1.01.nii.gz\n",
      "/data/scratch/SWU4_0025806_2_DTI_tensors_fa_rgb.nii.gz\n",
      "/data/scratch/kasthuri11.image_res5.sql\n",
      "/data/scratch/SWU4_0025803_2_DTI_tensors_fa_rgb.nii.gz\n",
      "/data/scratch/SWU4_0025802_1_DTI_tensors_fa_rgb.nii.gz\n",
      "/data/scratch/SWU4_0025805_2_DTI_tensors_fa_rgb.nii.gz\n",
      "/data/scratch/SWU4_0025801_1_DTI_tensors_fa_rgb.nii.gz\n"
     ]
    }
   ],
   "source": [
    "import os\n",
    "# get the list of files to upload\n",
    "files = [ os.path.abspath(niidir.value)+'/'+f for f in os.listdir( niidir.value ) ]\n",
    "print(\"Files found in directory {}\".format(niidir.value))\n",
    "for f in files:\n",
    "    if os.path.isfile (f):\n",
    "        print(f)"
   ]
  },
  {
   "cell_type": "markdown",
   "metadata": {},
   "source": [
    "### Select files\n",
    "\n",
    "In the following text box, you will put a python regular expresssion that derives channel names from the listed files.  Use http://regex101.com to help you build an appropriate string.  Paste the file name into test string, select python regular expresssions, and build your expression.  The channel name will be derived from capturing group 1 as shown in the match information on the right side.  For example, I used the regular expression .\\*(3d_.\\*)_image.\\* to capture 3d_int16 and 3d_float as channels from filenames  /.../3d_int16_image.nii.gz and /.../3d_float_image.nii.gz.  You will get to review the channel names and files prior to upload."
   ]
  },
  {
   "cell_type": "code",
   "execution_count": 11,
   "metadata": {
    "collapsed": false
   },
   "outputs": [
    {
     "data": {
      "text/plain": [
       "'Regular expresion to extract channel name from each file'"
      ]
     },
     "metadata": {},
     "output_type": "display_data"
    }
   ],
   "source": [
    "inputre = widgets.Text()\n",
    "display(\"Regular expresion to extract channel name from each file\", inputre)"
   ]
  },
  {
   "cell_type": "code",
   "execution_count": 22,
   "metadata": {
    "collapsed": false
   },
   "outputs": [
    {
     "name": "stdout",
     "output_type": "stream",
     "text": [
      "Upload file /data/scratch/SWU4_0025805_1_DTI_tensors_fa_rgb.nii.gz as channel 0025805_1\n",
      "Upload file /data/scratch/SWU4_0025800_2_DTI_tensors_fa_rgb.nii.gz as channel 0025800_2\n",
      "Upload file /data/scratch/SWU4_0025807_1_DTI_tensors_fa_rgb.nii.gz as channel 0025807_1\n",
      "Upload file /data/scratch/SWU4_0025801_2_DTI_tensors_fa_rgb.nii.gz as channel 0025801_2\n",
      "Upload file /data/scratch/SWU4_0025808_1_DTI_tensors_fa_rgb.nii.gz as channel 0025808_1\n",
      "Upload file /data/scratch/SWU4_0025800_1_DTI_tensors_fa_rgb.nii.gz as channel 0025800_1\n",
      "Upload file /data/scratch/SWU4_0025803_1_DTI_tensors_fa_rgb.nii.gz as channel 0025803_1\n",
      "Upload file /data/scratch/SWU4_0025807_2_DTI_tensors_fa_rgb.nii.gz as channel 0025807_2\n",
      "Upload file /data/scratch/SWU4_0025802_2_DTI_tensors_fa_rgb.nii.gz as channel 0025802_2\n",
      "Upload file /data/scratch/SWU4_0025804_1_DTI_tensors_fa_rgb.nii.gz as channel 0025804_1\n",
      "Upload file /data/scratch/SWU4_0025804_2_DTI_tensors_fa_rgb.nii.gz as channel 0025804_2\n",
      "Upload file /data/scratch/SWU4_0025806_1_DTI_tensors_fa_rgb.nii.gz as channel 0025806_1\n",
      "Upload file /data/scratch/SWU4_0025806_2_DTI_tensors_fa_rgb.nii.gz as channel 0025806_2\n",
      "Upload file /data/scratch/SWU4_0025803_2_DTI_tensors_fa_rgb.nii.gz as channel 0025803_2\n",
      "Upload file /data/scratch/SWU4_0025802_1_DTI_tensors_fa_rgb.nii.gz as channel 0025802_1\n",
      "Upload file /data/scratch/SWU4_0025805_2_DTI_tensors_fa_rgb.nii.gz as channel 0025805_2\n",
      "Upload file /data/scratch/SWU4_0025801_1_DTI_tensors_fa_rgb.nii.gz as channel 0025801_1\n"
     ]
    }
   ],
   "source": [
    "import re\n",
    "mritodo={}\n",
    "for f in files:\n",
    "    m = re.search(r\"{}\".format(inputre.value),f)\n",
    "    if m is not None:\n",
    "        print (\"Upload file {} as channel {}\".format(f, m.group(1)))\n",
    "        mritodo[m.group(1)] = f"
   ]
  },
  {
   "cell_type": "markdown",
   "metadata": {},
   "source": [
    "### Select a Project\n",
    "\n",
    "Specify the project name on mri.neurodata.io that you already created."
   ]
  },
  {
   "cell_type": "code",
   "execution_count": 21,
   "metadata": {
    "collapsed": false
   },
   "outputs": [
    {
     "data": {
      "text/plain": [
       "'Project on mri.neurodata.io for mri upload'"
      ]
     },
     "metadata": {},
     "output_type": "display_data"
    }
   ],
   "source": [
    "proj = widgets.Text()\n",
    "display(\"Project on mri.neurodata.io for mri upload\", proj)"
   ]
  },
  {
   "cell_type": "markdown",
   "metadata": {},
   "source": [
    "### Upload the data\n",
    "\n",
    "Having chosen a project and verified the files and channels that you want to upload, running the following code block will send the data to the server, creating channels for each file.  If your upload fails or is interrupted, you may run this code block multiple times.  It will send the data that has not already been uploaded and omit the data that is already on the server."
   ]
  },
  {
   "cell_type": "code",
   "execution_count": 25,
   "metadata": {
    "collapsed": false
   },
   "outputs": [
    {
     "name": "stderr",
     "output_type": "stream",
     "text": [
      "/usr/lib/python3/dist-packages/urllib3/connectionpool.py:794: InsecureRequestWarning: Unverified HTTPS request is being made. Adding certificate verification is strongly advised. See: https://urllib3.readthedocs.org/en/latest/security.html\n",
      "  InsecureRequestWarning)\n",
      "/usr/lib/python3/dist-packages/urllib3/connectionpool.py:794: InsecureRequestWarning: Unverified HTTPS request is being made. Adding certificate verification is strongly advised. See: https://urllib3.readthedocs.org/en/latest/security.html\n",
      "  InsecureRequestWarning)\n"
     ]
    },
    {
     "name": "stdout",
     "output_type": "stream",
     "text": [
      "Uploading /data/scratch/SWU4_0025808_1_DTI_tensors_fa_rgb.nii.gz to https://mri.neurodata.io/nd/sd/SWU4_FA/0025808_1/nii/create/\n",
      "Status 200. Message b'None'.\n",
      "Uploading /data/scratch/SWU4_0025801_2_DTI_tensors_fa_rgb.nii.gz to https://mri.neurodata.io/nd/sd/SWU4_FA/0025801_2/nii/create/\n"
     ]
    },
    {
     "name": "stderr",
     "output_type": "stream",
     "text": [
      "/usr/lib/python3/dist-packages/urllib3/connectionpool.py:794: InsecureRequestWarning: Unverified HTTPS request is being made. Adding certificate verification is strongly advised. See: https://urllib3.readthedocs.org/en/latest/security.html\n",
      "  InsecureRequestWarning)\n"
     ]
    },
    {
     "name": "stdout",
     "output_type": "stream",
     "text": [
      "Status 200. Message b'None'.\n",
      "Uploading /data/scratch/SWU4_0025800_2_DTI_tensors_fa_rgb.nii.gz to https://mri.neurodata.io/nd/sd/SWU4_FA/0025800_2/nii/create/\n"
     ]
    },
    {
     "name": "stderr",
     "output_type": "stream",
     "text": [
      "/usr/lib/python3/dist-packages/urllib3/connectionpool.py:794: InsecureRequestWarning: Unverified HTTPS request is being made. Adding certificate verification is strongly advised. See: https://urllib3.readthedocs.org/en/latest/security.html\n",
      "  InsecureRequestWarning)\n"
     ]
    },
    {
     "name": "stdout",
     "output_type": "stream",
     "text": [
      "Status 200. Message b'None'.\n",
      "Uploading /data/scratch/SWU4_0025804_2_DTI_tensors_fa_rgb.nii.gz to https://mri.neurodata.io/nd/sd/SWU4_FA/0025804_2/nii/create/\n"
     ]
    },
    {
     "name": "stderr",
     "output_type": "stream",
     "text": [
      "/usr/lib/python3/dist-packages/urllib3/connectionpool.py:794: InsecureRequestWarning: Unverified HTTPS request is being made. Adding certificate verification is strongly advised. See: https://urllib3.readthedocs.org/en/latest/security.html\n",
      "  InsecureRequestWarning)\n"
     ]
    },
    {
     "name": "stdout",
     "output_type": "stream",
     "text": [
      "Status 200. Message b'None'.\n",
      "Uploading /data/scratch/SWU4_0025803_2_DTI_tensors_fa_rgb.nii.gz to https://mri.neurodata.io/nd/sd/SWU4_FA/0025803_2/nii/create/\n"
     ]
    },
    {
     "name": "stderr",
     "output_type": "stream",
     "text": [
      "/usr/lib/python3/dist-packages/urllib3/connectionpool.py:794: InsecureRequestWarning: Unverified HTTPS request is being made. Adding certificate verification is strongly advised. See: https://urllib3.readthedocs.org/en/latest/security.html\n",
      "  InsecureRequestWarning)\n"
     ]
    },
    {
     "name": "stdout",
     "output_type": "stream",
     "text": [
      "Status 200. Message b'None'.\n",
      "Uploading /data/scratch/SWU4_0025806_1_DTI_tensors_fa_rgb.nii.gz to https://mri.neurodata.io/nd/sd/SWU4_FA/0025806_1/nii/create/\n"
     ]
    },
    {
     "name": "stderr",
     "output_type": "stream",
     "text": [
      "/usr/lib/python3/dist-packages/urllib3/connectionpool.py:794: InsecureRequestWarning: Unverified HTTPS request is being made. Adding certificate verification is strongly advised. See: https://urllib3.readthedocs.org/en/latest/security.html\n",
      "  InsecureRequestWarning)\n"
     ]
    },
    {
     "name": "stdout",
     "output_type": "stream",
     "text": [
      "Status 200. Message b'None'.\n",
      "Uploading /data/scratch/SWU4_0025805_1_DTI_tensors_fa_rgb.nii.gz to https://mri.neurodata.io/nd/sd/SWU4_FA/0025805_1/nii/create/\n"
     ]
    },
    {
     "name": "stderr",
     "output_type": "stream",
     "text": [
      "/usr/lib/python3/dist-packages/urllib3/connectionpool.py:794: InsecureRequestWarning: Unverified HTTPS request is being made. Adding certificate verification is strongly advised. See: https://urllib3.readthedocs.org/en/latest/security.html\n",
      "  InsecureRequestWarning)\n"
     ]
    },
    {
     "name": "stdout",
     "output_type": "stream",
     "text": [
      "Status 200. Message b'None'.\n",
      "Uploading /data/scratch/SWU4_0025803_1_DTI_tensors_fa_rgb.nii.gz to https://mri.neurodata.io/nd/sd/SWU4_FA/0025803_1/nii/create/\n"
     ]
    },
    {
     "name": "stderr",
     "output_type": "stream",
     "text": [
      "/usr/lib/python3/dist-packages/urllib3/connectionpool.py:794: InsecureRequestWarning: Unverified HTTPS request is being made. Adding certificate verification is strongly advised. See: https://urllib3.readthedocs.org/en/latest/security.html\n",
      "  InsecureRequestWarning)\n"
     ]
    },
    {
     "name": "stdout",
     "output_type": "stream",
     "text": [
      "Status 200. Message b'None'.\n",
      "Uploading /data/scratch/SWU4_0025807_2_DTI_tensors_fa_rgb.nii.gz to https://mri.neurodata.io/nd/sd/SWU4_FA/0025807_2/nii/create/\n"
     ]
    },
    {
     "name": "stderr",
     "output_type": "stream",
     "text": [
      "/usr/lib/python3/dist-packages/urllib3/connectionpool.py:794: InsecureRequestWarning: Unverified HTTPS request is being made. Adding certificate verification is strongly advised. See: https://urllib3.readthedocs.org/en/latest/security.html\n",
      "  InsecureRequestWarning)\n"
     ]
    },
    {
     "name": "stdout",
     "output_type": "stream",
     "text": [
      "Status 200. Message b'None'.\n",
      "Uploading /data/scratch/SWU4_0025805_2_DTI_tensors_fa_rgb.nii.gz to https://mri.neurodata.io/nd/sd/SWU4_FA/0025805_2/nii/create/\n"
     ]
    },
    {
     "name": "stderr",
     "output_type": "stream",
     "text": [
      "/usr/lib/python3/dist-packages/urllib3/connectionpool.py:794: InsecureRequestWarning: Unverified HTTPS request is being made. Adding certificate verification is strongly advised. See: https://urllib3.readthedocs.org/en/latest/security.html\n",
      "  InsecureRequestWarning)\n"
     ]
    },
    {
     "name": "stdout",
     "output_type": "stream",
     "text": [
      "Status 200. Message b'None'.\n",
      "Uploading /data/scratch/SWU4_0025806_2_DTI_tensors_fa_rgb.nii.gz to https://mri.neurodata.io/nd/sd/SWU4_FA/0025806_2/nii/create/\n"
     ]
    },
    {
     "name": "stderr",
     "output_type": "stream",
     "text": [
      "/usr/lib/python3/dist-packages/urllib3/connectionpool.py:794: InsecureRequestWarning: Unverified HTTPS request is being made. Adding certificate verification is strongly advised. See: https://urllib3.readthedocs.org/en/latest/security.html\n",
      "  InsecureRequestWarning)\n"
     ]
    },
    {
     "name": "stdout",
     "output_type": "stream",
     "text": [
      "Status 200. Message b'None'.\n",
      "Uploading /data/scratch/SWU4_0025807_1_DTI_tensors_fa_rgb.nii.gz to https://mri.neurodata.io/nd/sd/SWU4_FA/0025807_1/nii/create/\n"
     ]
    },
    {
     "name": "stderr",
     "output_type": "stream",
     "text": [
      "/usr/lib/python3/dist-packages/urllib3/connectionpool.py:794: InsecureRequestWarning: Unverified HTTPS request is being made. Adding certificate verification is strongly advised. See: https://urllib3.readthedocs.org/en/latest/security.html\n",
      "  InsecureRequestWarning)\n"
     ]
    },
    {
     "name": "stdout",
     "output_type": "stream",
     "text": [
      "Status 200. Message b'None'.\n",
      "Uploading /data/scratch/SWU4_0025800_1_DTI_tensors_fa_rgb.nii.gz to https://mri.neurodata.io/nd/sd/SWU4_FA/0025800_1/nii/create/\n"
     ]
    },
    {
     "name": "stderr",
     "output_type": "stream",
     "text": [
      "/usr/lib/python3/dist-packages/urllib3/connectionpool.py:794: InsecureRequestWarning: Unverified HTTPS request is being made. Adding certificate verification is strongly advised. See: https://urllib3.readthedocs.org/en/latest/security.html\n",
      "  InsecureRequestWarning)\n"
     ]
    },
    {
     "name": "stdout",
     "output_type": "stream",
     "text": [
      "Status 200. Message b'None'.\n",
      "Uploading /data/scratch/SWU4_0025801_1_DTI_tensors_fa_rgb.nii.gz to https://mri.neurodata.io/nd/sd/SWU4_FA/0025801_1/nii/create/\n"
     ]
    },
    {
     "name": "stderr",
     "output_type": "stream",
     "text": [
      "/usr/lib/python3/dist-packages/urllib3/connectionpool.py:794: InsecureRequestWarning: Unverified HTTPS request is being made. Adding certificate verification is strongly advised. See: https://urllib3.readthedocs.org/en/latest/security.html\n",
      "  InsecureRequestWarning)\n"
     ]
    },
    {
     "name": "stdout",
     "output_type": "stream",
     "text": [
      "Status 200. Message b'None'.\n",
      "Uploading /data/scratch/SWU4_0025804_1_DTI_tensors_fa_rgb.nii.gz to https://mri.neurodata.io/nd/sd/SWU4_FA/0025804_1/nii/create/\n"
     ]
    },
    {
     "name": "stderr",
     "output_type": "stream",
     "text": [
      "/usr/lib/python3/dist-packages/urllib3/connectionpool.py:794: InsecureRequestWarning: Unverified HTTPS request is being made. Adding certificate verification is strongly advised. See: https://urllib3.readthedocs.org/en/latest/security.html\n",
      "  InsecureRequestWarning)\n"
     ]
    },
    {
     "name": "stdout",
     "output_type": "stream",
     "text": [
      "Status 200. Message b'None'.\n",
      "Uploading /data/scratch/SWU4_0025802_2_DTI_tensors_fa_rgb.nii.gz to https://mri.neurodata.io/nd/sd/SWU4_FA/0025802_2/nii/create/\n"
     ]
    },
    {
     "name": "stderr",
     "output_type": "stream",
     "text": [
      "/usr/lib/python3/dist-packages/urllib3/connectionpool.py:794: InsecureRequestWarning: Unverified HTTPS request is being made. Adding certificate verification is strongly advised. See: https://urllib3.readthedocs.org/en/latest/security.html\n",
      "  InsecureRequestWarning)\n"
     ]
    },
    {
     "name": "stdout",
     "output_type": "stream",
     "text": [
      "Status 200. Message b'None'.\n",
      "Uploading /data/scratch/SWU4_0025802_1_DTI_tensors_fa_rgb.nii.gz to https://mri.neurodata.io/nd/sd/SWU4_FA/0025802_1/nii/create/\n"
     ]
    },
    {
     "name": "stderr",
     "output_type": "stream",
     "text": [
      "/usr/lib/python3/dist-packages/urllib3/connectionpool.py:794: InsecureRequestWarning: Unverified HTTPS request is being made. Adding certificate verification is strongly advised. See: https://urllib3.readthedocs.org/en/latest/security.html\n",
      "  InsecureRequestWarning)\n"
     ]
    },
    {
     "name": "stdout",
     "output_type": "stream",
     "text": [
      "Status 200. Message b'None'.\n"
     ]
    }
   ],
   "source": [
    "import requests\n",
    "import json\n",
    "\n",
    "# get the current list of channels\n",
    "requests.packages.urllib3.disable_warnings()\n",
    "r = requests.get ( \"https://mri.neurodata.io/nd/sd/{}/info/\".format(proj.value), verify=False )\n",
    "infos = json.loads(r.text)\n",
    "chans = infos[\"channels\"].keys()\n",
    "\n",
    "for (k,v) in mritodo.items():\n",
    "    if k in chans:\n",
    "        print(\"Skipping already uploaded channel {}\".format(k))\n",
    "        continue\n",
    "    \n",
    "    url = 'https://mri.neurodata.io/nd/sd/{}/{}/nii/create/'.format(proj.value, k)\n",
    "\n",
    "    print(\"Uploading {} to {}\".format(v,url))\n",
    "    requests.packages.urllib3.disable_warnings()\n",
    "    response = requests.post(url, open(v, \"rb\").read(), verify=False)\n",
    "    print(\"Status {}. Message {}.\".format(response.status_code, response._content ))\n"
   ]
  },
  {
   "cell_type": "code",
   "execution_count": null,
   "metadata": {
    "collapsed": true
   },
   "outputs": [],
   "source": []
  }
 ],
 "metadata": {
  "kernelspec": {
   "display_name": "Python 3",
   "language": "python",
   "name": "python3"
  },
  "language_info": {
   "codemirror_mode": {
    "name": "ipython",
    "version": 3
   },
   "file_extension": ".py",
   "mimetype": "text/x-python",
   "name": "python",
   "nbconvert_exporter": "python",
   "pygments_lexer": "ipython3",
   "version": "3.5.2"
  },
  "widgets": {
   "state": {
    "056fbe19070e4612a7fc7b24383a90f8": {
     "views": [
      {
       "cell_index": 0
      }
     ]
    },
    "528cba83646b4ccdabba2f25ee7ea4b3": {
     "views": [
      {
       "cell_index": 4
      }
     ]
    },
    "e7c29f8fdf984d98bfcf4c800d7663c8": {
     "views": [
      {
       "cell_index": 7
      }
     ]
    }
   },
   "version": "1.2.0"
  }
 },
 "nbformat": 4,
 "nbformat_minor": 1
}
