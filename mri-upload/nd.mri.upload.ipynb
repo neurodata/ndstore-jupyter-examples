{
 "cells": [
  {
   "cell_type": "markdown",
   "metadata": {
    "deletable": true,
    "editable": true
   },
   "source": [
    "## MRI Upload to mri.neurodata.io\n",
    "\n",
    "This notebook demonstrates how to upload a directory of NIFTI files to a the NeuroData store server.  To use these instructions you need to have created a __\"Dataset\"__ that describes the shape of the images and a __\"Project\"__ that names a collections of images.  When you upload images, they will populate __\"Channels\"__ in the database.  To create a dataset and project, go to mri.neurodata.io/nd/accounts/login/."
   ]
  },
  {
   "cell_type": "markdown",
   "metadata": {
    "deletable": true,
    "editable": true
   },
   "source": [
    "### Directory of NIFTI files\n",
    "\n",
    "In the following text box, give the path to the directory of the MRI files that you want to upload.  The notebook will print a list of files that it has found in that directory."
   ]
  },
  {
   "cell_type": "code",
   "execution_count": 1,
   "metadata": {
    "collapsed": false,
    "deletable": true,
    "editable": true
   },
   "outputs": [
    {
     "data": {
      "text/plain": [
       "'Input directory with .nii files'"
      ]
     },
     "metadata": {},
     "output_type": "display_data"
    },
    {
     "data": {
      "application/vnd.jupyter.widget-view+json": {
       "model_id": "680536bba4a1441e9789500c18bb9ce3"
      }
     },
     "metadata": {},
     "output_type": "display_data"
    }
   ],
   "source": [
    "from ipywidgets import widgets\n",
    "from IPython.display import display\n",
    "niidir = widgets.Text()\n",
    "display(\"Input directory with .nii files\", niidir)"
   ]
  },
  {
   "cell_type": "code",
   "execution_count": 2,
   "metadata": {
    "collapsed": false,
    "deletable": true,
    "editable": true
   },
   "outputs": [
    {
     "name": "stdout",
     "output_type": "stream",
     "text": [
      "Files found in directory /home/randal/nifti/randal_images/3d/\n",
      "/home/randal/nifti/randal_images/3d/3d_int32_image.nii.gz\n",
      "/home/randal/nifti/randal_images/3d/3d_int16_image.nii.gz\n",
      "/home/randal/nifti/randal_images/3d/3d_float_image.nii.gz\n",
      "/home/randal/nifti/randal_images/3d/3d_int8_image.nii.gz\n"
     ]
    }
   ],
   "source": [
    "import os\n",
    "# get the list of files to upload\n",
    "files = [ os.path.abspath(niidir.value)+'/'+f for f in os.listdir( niidir.value ) ]\n",
    "print(\"Files found in directory {}\".format(niidir.value))\n",
    "for f in files:\n",
    "    if os.path.isfile (f):\n",
    "        print(f)"
   ]
  },
  {
   "cell_type": "markdown",
   "metadata": {
    "deletable": true,
    "editable": true
   },
   "source": [
    "### Select files\n",
    "\n",
    "In the following text box, you will put a python regular expresssion that derives channel names from the listed files.  Use http://regex101.com to help you build an appropriate string.  Paste the file name into test string, select python regular expresssions, and build your expression.  The channel name will be derived from capturing group 1 as shown in the match information on the right side.  For example, I used the regular expression .*(3d_.*)_image.* to capture 3d_int16 and 3d_float as channels from filenames  /.../3d_int16_image.nii.gz and /.../3d_float_image.nii.gz.  You will get to review the channel names and files prior to upload."
   ]
  },
  {
   "cell_type": "code",
   "execution_count": 3,
   "metadata": {
    "collapsed": false,
    "deletable": true,
    "editable": true
   },
   "outputs": [
    {
     "data": {
      "text/plain": [
       "'Regular expresion to extract channel name from each file'"
      ]
     },
     "metadata": {},
     "output_type": "display_data"
    },
    {
     "data": {
      "application/vnd.jupyter.widget-view+json": {
       "model_id": "346a5ebec24e428da56c7a25c6b6beec"
      }
     },
     "metadata": {},
     "output_type": "display_data"
    }
   ],
   "source": [
    "inputre = widgets.Text()\n",
    "display(\"Regular expresion to extract channel name from each file\", inputre)"
   ]
  },
  {
   "cell_type": "code",
   "execution_count": 47,
   "metadata": {
    "collapsed": false,
    "deletable": true,
    "editable": true
   },
   "outputs": [
    {
     "name": "stdout",
     "output_type": "stream",
     "text": [
      "Upload file /home/randal/nifti/randal_images/3d/3d_int32_image.nii.gz as channel 3d_int32\n",
      "Upload file /home/randal/nifti/randal_images/3d/3d_int16_image.nii.gz as channel 3d_int16\n",
      "Upload file /home/randal/nifti/randal_images/3d/3d_float_image.nii.gz as channel 3d_float\n",
      "Upload file /home/randal/nifti/randal_images/3d/3d_int8_image.nii.gz as channel 3d_int8\n"
     ]
    }
   ],
   "source": [
    "import re\n",
    "mritodo={}\n",
    "for f in files:\n",
    "    m = re.match(r\"{}\".format(inputre.value),f) \n",
    "    if m is not None:\n",
    "        print (\"Upload file {} as channel {}\".format(f, m.group(1)))\n",
    "        mritodo[m.group(1)] = f"
   ]
  },
  {
   "cell_type": "markdown",
   "metadata": {
    "deletable": true,
    "editable": true
   },
   "source": [
    "### Select a Project\n",
    "\n",
    "Specify the project name on mri.neurodata.io that you already created."
   ]
  },
  {
   "cell_type": "code",
   "execution_count": 50,
   "metadata": {
    "collapsed": false,
    "deletable": true,
    "editable": true
   },
   "outputs": [
    {
     "data": {
      "text/plain": [
       "'Project on mri.neurodata.io for mri upload'"
      ]
     },
     "metadata": {},
     "output_type": "display_data"
    },
    {
     "name": "stderr",
     "output_type": "stream",
     "text": [
      "Widget Javascript not detected.  It may not be installed or enabled properly.\n"
     ]
    },
    {
     "data": {
      "application/vnd.jupyter.widget-view+json": {
       "model_id": "04e79c8650fb410f981b3949c8d61086"
      }
     },
     "metadata": {},
     "output_type": "display_data"
    }
   ],
   "source": [
    "proj = widgets.Text()\n",
    "display(\"Project on mri.neurodata.io for mri upload\", proj)"
   ]
  },
  {
   "cell_type": "markdown",
   "metadata": {
    "deletable": true,
    "editable": true
   },
   "source": [
    "### Upload the data\n",
    "\n",
    "Having chosen a project and verified the files and channels that you want to upload, running the following code block will send the data to the server, creating channels for each file.  If your upload fails or is interrupted, you may run this code block multiple times.  It will send the data that has not already been uploaded and omit the data that is already on the server."
   ]
  },
  {
   "cell_type": "code",
   "execution_count": 74,
   "metadata": {
    "collapsed": false,
    "deletable": true,
    "editable": true
   },
   "outputs": [
    {
     "name": "stdout",
     "output_type": "stream",
     "text": [
      "Skipping already uploaded channel 3d_int16\n",
      "Skipping already uploaded channel 3d_int8\n",
      "Skipping already uploaded channel 3d_int32\n",
      "Skipping already uploaded channel 3d_float\n"
     ]
    }
   ],
   "source": [
    "import requests\n",
    "import json\n",
    "\n",
    "# get the current list of channels\n",
    "requests.packages.urllib3.disable_warnings()\n",
    "r = requests.get ( \"https://mri.neurodata.io/nd/sd/{}/info/\".format(proj.value), verify=False )\n",
    "infos = json.loads(r.text)\n",
    "chans = infos[\"channels\"].keys()\n",
    "\n",
    "for (k,v) in mritodo.items():\n",
    "    if k in chans:\n",
    "        print(\"Skipping already uploaded channel {}\".format(k))\n",
    "        continue\n",
    "    \n",
    "    url = 'https://mri.neurodata.io/nd/sd/{}/{}/nii/create/'.format(proj.value, k)\n",
    "\n",
    "    print(\"Uploading {} to {}\".format(v,url))\n",
    "    requests.packages.urllib3.disable_warnings()\n",
    "    response = requests.post(url, open(v, \"rb\").read(), verify=False)\n",
    "    print(\"Status {}. Message {}.\".format(response.status_code, response._content ))\n"
   ]
  }
 ],
 "metadata": {
  "kernelspec": {
   "display_name": "Python 3",
   "language": "python",
   "name": "python3"
  },
  "language_info": {
   "codemirror_mode": {
    "name": "ipython",
    "version": 3
   },
   "file_extension": ".py",
   "mimetype": "text/x-python",
   "name": "python",
   "nbconvert_exporter": "python",
   "pygments_lexer": "ipython3",
   "version": "3.5.2"
  },
  "widgets": {
   "state": {
    "01fbc65d74d14a519f77396cfab89a46": {
     "views": [
      {
       "cell_index": 1
      }
     ]
    }
   },
   "version": "1.2.0"
  }
 },
 "nbformat": 4,
 "nbformat_minor": 2
}
